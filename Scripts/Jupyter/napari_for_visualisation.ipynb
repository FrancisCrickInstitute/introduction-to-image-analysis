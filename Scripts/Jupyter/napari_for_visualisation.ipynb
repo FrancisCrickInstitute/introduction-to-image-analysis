{
 "cells": [
  {
   "cell_type": "markdown",
   "id": "f9e598bb-1f38-4157-ba35-dda1b7552839",
   "metadata": {},
   "source": [
    "# Using napari for visualisation\n",
    "\n",
    "---\n",
    "*Introduction to Image Analysis Workshop*\n",
    "\n",
    "*Stefania Marcotti (stefania.marcotti@kcl.ac.uk)*\n",
    "\n",
    "*Intro to using napari as a visualisation tool from Jupyter notebooks*\n",
    "\n",
    "*CC-BY-SA-4.0 license: creativecommons.org/licenses/by-sa/4.0/*\n",
    "\n",
    "---"
   ]
  },
  {
   "cell_type": "markdown",
   "id": "fc887c85-dd4b-430d-b432-c2c202581a9a",
   "metadata": {},
   "source": [
    "In this notebook we are going to explore how using [`napari`](https://napari.org/stable/index.html) as a visualisation tool allows us for more flexibility than the more classical `matplotlib` approach. We are also going to use [`aicsimageio`](https://allencellmodeling.github.io/aicsimageio/index.html#) to import images so that the metadata is read properly.\n",
    "\n",
    "You can find the full `napari` API documentation at [this link](https://napari.org/stable/api/)."
   ]
  },
  {
   "cell_type": "markdown",
   "id": "b882d231-842e-4a0c-98be-1a0dcaf23425",
   "metadata": {},
   "source": [
    "### Import libraries"
   ]
  },
  {
   "cell_type": "code",
   "execution_count": null,
   "id": "e1dfd706-9131-4df1-917b-7e356767f3cc",
   "metadata": {
    "tags": []
   },
   "outputs": [],
   "source": [
    "import numpy as np\n",
    "\n",
    "from skimage import io\n",
    "from skimage import filters\n",
    "from skimage import measure\n",
    "\n",
    "import matplotlib.pyplot as plt\n",
    "\n",
    "import napari\n",
    "\n",
    "from aicsimageio import AICSImage"
   ]
  },
  {
   "cell_type": "markdown",
   "id": "caa6db62-c4be-4bb0-9e6a-5451442ff57c",
   "metadata": {},
   "source": [
    "### Import data"
   ]
  },
  {
   "cell_type": "code",
   "execution_count": null,
   "id": "8496b452-3029-421c-81b4-08ef0fce268c",
   "metadata": {
    "tags": []
   },
   "outputs": [],
   "source": [
    "# read .tif file\n",
    "im_read = io.imread('../../Data/idr0028/003003-10.tif')\n",
    "\n",
    "# rearrange channels\n",
    "im_all = np.transpose(im_read, (2, 0, 1))"
   ]
  },
  {
   "cell_type": "markdown",
   "id": "d9ca9127-5d65-4b03-a23f-700395e143fe",
   "metadata": {},
   "source": [
    "### Visualise the data using `matplotlib`"
   ]
  },
  {
   "cell_type": "code",
   "execution_count": null,
   "id": "338f882d-b413-4795-8e0e-cb1eb8cf8e32",
   "metadata": {
    "tags": []
   },
   "outputs": [],
   "source": [
    "# display all channels \n",
    "fig, axs = plt.subplots(2, 2, figsize=(8,6))\n",
    "\n",
    "axs[0, 0].imshow(im_all[0,], cmap='gray')\n",
    "axs[0, 0].set_title('ch0: nuclei (Hoechst)')\n",
    "axs[0, 0].axis('off')\n",
    "\n",
    "axs[0, 1].imshow(im_all[1,], cmap='gray')\n",
    "axs[0, 1].set_title('ch1: tubulin (AlexaFluor568)')\n",
    "axs[0, 1].axis('off')\n",
    "\n",
    "axs[1, 0].imshow(im_all[2,], cmap='gray')\n",
    "axs[1, 0].set_title('ch2: actin (AlexaFluor488)')\n",
    "axs[1, 0].axis('off')\n",
    "\n",
    "axs[1, 1].imshow(im_all[3,], cmap='gray')\n",
    "axs[1, 1].set_title('ch3: YAP/TAZ (AlexaFluor647)')\n",
    "axs[1, 1].axis('off')\n",
    "\n",
    "plt.tight_layout()"
   ]
  },
  {
   "cell_type": "markdown",
   "id": "3f4dfd79-c121-4237-972c-93c31c6e5353",
   "metadata": {},
   "source": [
    "### Visualise the data using `napari`"
   ]
  },
  {
   "cell_type": "markdown",
   "id": "a62abbb9-5283-4763-a166-f6f5bd6433c7",
   "metadata": {
    "tags": []
   },
   "source": [
    "You might want to check the import options at [this `napari` API documentation page](https://napari.org/stable/api/napari.html#napari.view_image)"
   ]
  },
  {
   "cell_type": "code",
   "execution_count": null,
   "id": "46e0fb46-b12a-48e1-8c71-27ca171ce304",
   "metadata": {
    "tags": []
   },
   "outputs": [],
   "source": [
    "viewer = napari.Viewer()\n",
    "viewer.add_image(im_all[0,], name='nuclei', colormap='cyan')\n",
    "viewer.add_image(im_all[1,], name='tubulin', colormap='magenta')\n",
    "viewer.add_image(im_all[2,], name='actin', colormap='green')\n",
    "viewer.add_image(im_all[3,], name='YAP/TAZ', colormap='yellow')"
   ]
  },
  {
   "cell_type": "markdown",
   "id": "07058569-cccb-424e-b4cd-bf98d87ee10a",
   "metadata": {},
   "source": [
    "### Performing the nuclear segmentation and visualising the results in `napari`"
   ]
  },
  {
   "cell_type": "code",
   "execution_count": null,
   "id": "36f9ec5a-1309-4c80-8895-0719a6bcf38c",
   "metadata": {
    "tags": []
   },
   "outputs": [],
   "source": [
    "# open image (only ch0)\n",
    "im = im_all[0,]\n",
    "# filter with Gaussian\n",
    "im_gauss = filters.gaussian(im, sigma=5)\n",
    "\n",
    "# threshold with Otsu\n",
    "thresh = filters.threshold_otsu(im_gauss)\n",
    "im_thresh = im_gauss >= thresh\n",
    "\n",
    "# label mask\n",
    "labels = measure.label(im_thresh)\n"
   ]
  },
  {
   "cell_type": "code",
   "execution_count": null,
   "id": "2226aaf0-843d-492f-adda-ea4bd675f9e7",
   "metadata": {
    "tags": []
   },
   "outputs": [],
   "source": [
    "viewer.add_image(im_gauss, name='nuclei_gaussian_filter')\n",
    "viewer.add_image(im_thresh, name='nuclei_binary')\n",
    "viewer.add_labels(labels, name='nuclei_labels')"
   ]
  },
  {
   "cell_type": "markdown",
   "id": "42b1e9f3-9068-4be8-bc88-0e4bf414425c",
   "metadata": {},
   "source": [
    "### Import 3D data with `aicsimageio`"
   ]
  },
  {
   "cell_type": "markdown",
   "id": "ad34e423-dbfc-4d61-8a4b-8643f4c84563",
   "metadata": {},
   "source": [
    "`aicsimageio` is a library for image reading, metadata conversion, and image writing for microscopy images. You can find the full API at [this link](https://allencellmodeling.github.io/aicsimageio/)."
   ]
  },
  {
   "cell_type": "code",
   "execution_count": null,
   "id": "e98a1193-0b05-4fe8-9dae-48698b7a76e9",
   "metadata": {
    "tags": []
   },
   "outputs": [],
   "source": [
    "# read .tif file with Bioformats importer `aicsimageio`\n",
    "im1_read = AICSImage('../../Data/others/3D_Image.ome.tiff')"
   ]
  },
  {
   "cell_type": "code",
   "execution_count": null,
   "id": "fcd77528-bf97-4626-a0d6-de6deced3a4b",
   "metadata": {
    "tags": []
   },
   "outputs": [],
   "source": [
    "# check the dimensions of the object\n",
    "print('Object dimensions:', im1_read.shape)"
   ]
  },
  {
   "cell_type": "code",
   "execution_count": null,
   "id": "e3d370f4-7dc0-4fcf-a475-57646a21e084",
   "metadata": {
    "tags": []
   },
   "outputs": [],
   "source": [
    "# check the order of the given dimensions\n",
    "print('Dimensions order:', im1_read.dims.order)"
   ]
  },
  {
   "cell_type": "code",
   "execution_count": null,
   "id": "bcb45583-4559-41fd-8f3d-480c4fb911a2",
   "metadata": {
    "tags": []
   },
   "outputs": [],
   "source": [
    "# check the spatial resolution\n",
    "print(im1_read.physical_pixel_sizes)\n",
    "scale_um = [im1_read.physical_pixel_sizes.Z, im1_read.physical_pixel_sizes.Y, im1_read.physical_pixel_sizes.X]"
   ]
  },
  {
   "cell_type": "markdown",
   "id": "d161c498-b17d-4178-b8fb-53b9382cb682",
   "metadata": {},
   "source": [
    "### Visualise using `napari`"
   ]
  },
  {
   "cell_type": "code",
   "execution_count": null,
   "id": "a32500be-1854-4dd6-ac8d-622ef36029af",
   "metadata": {
    "tags": []
   },
   "outputs": [],
   "source": [
    "viewer = napari.Viewer()\n",
    "viewer.add_image(im1_read.data[0,0,], name='nuclei', colormap='green', scale = scale_um)\n",
    "viewer.add_image(im1_read.data[0,1,], name='membrane', colormap='magenta', scale = scale_um)"
   ]
  },
  {
   "cell_type": "markdown",
   "id": "97afed0c-7fd1-4dee-80d0-311389a41e5d",
   "metadata": {},
   "source": [
    "### Further reading\n",
    "If you're interested in knowing more about integrating napari and Jupyter, you can take a look at the material [here](https://biapol.github.io/HIP_Introduction_to_Napari_and_image_processing_with_Python_2022/03_Introduction_Jupyter_with_napari/readme.html). Good luck with your image analysis adventures!"
   ]
  }
 ],
 "metadata": {
  "kernelspec": {
   "display_name": "Python 3 (ipykernel)",
   "language": "python",
   "name": "python3"
  },
  "language_info": {
   "codemirror_mode": {
    "name": "ipython",
    "version": 3
   },
   "file_extension": ".py",
   "mimetype": "text/x-python",
   "name": "python",
   "nbconvert_exporter": "python",
   "pygments_lexer": "ipython3",
   "version": "3.9.18"
  }
 },
 "nbformat": 4,
 "nbformat_minor": 5
}
