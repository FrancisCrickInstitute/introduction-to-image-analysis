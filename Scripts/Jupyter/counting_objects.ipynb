{
 "cells": [
  {
   "cell_type": "markdown",
   "id": "f36c0bc1-3bb8-4d59-bc97-9ab89c4a1e7a",
   "metadata": {},
   "source": [
    "# Counting objects workflow\n",
    "\n",
    "---\n",
    "*Introduction to Image Analysis Workshop*\n",
    "\n",
    "*Stefania Marcotti (stefania.marcotti@crick.ac.uk)*\n",
    "\n",
    "*Intro to building image analysis pipelines with Python*\n",
    "\n",
    "*CC-BY-SA-4.0 license: creativecommons.org/licenses/by-sa/4.0/*\n",
    "\n",
    "---"
   ]
  },
  {
   "cell_type": "markdown",
   "id": "ea45079a-8e1d-4baa-9b55-2fde46e900ae",
   "metadata": {},
   "source": [
    "In this notebook we will illustrate a simple workflow, consisting of a number of simple steps, designed to accomplish the goal of **counting objects in a microscopy image**. \n",
    "\n",
    "You will learn how to:\n",
    "\n",
    "* Open images\n",
    "* Use filters to suppress noise\n",
    "* Segment images using grey level thresholding\n",
    "* Count objects\n",
    "* Perform basic morphological quantification"
   ]
  },
  {
   "cell_type": "markdown",
   "id": "5c7a6fd0-5d18-492c-aeb0-4ba16207b492",
   "metadata": {},
   "source": [
    "### Import libraries\n",
    "Python is organised in modules and packages. To make them available in our current notebook, we use the keywork `import`. We can also import specific functions by using the syntax [`from` module `import` function]. Additionally, we can define aliases for modules' names with the keyword `as`\n",
    "\n",
    "You can check the documentation for the various modules if you want to know more!\n",
    "\n",
    "* [`numpy`](https://numpy.org/) - scientific computing\n",
    "* [`scikit_image`](https://scikit-image.org/docs/stable/api/skimage.html) (a.k.a. [`skimage`](https://scikit-image.org/docs/stable/api/skimage.html)) - image processing and computer vision\n",
    "* [`matplotlib`](https://matplotlib.org/) - visualisations\n",
    "* [`pandas`](https://pandas.pydata.org/docs/user_guide/index.html) - data managing"
   ]
  },
  {
   "cell_type": "code",
   "execution_count": null,
   "id": "c5035b6e-07d9-462a-860f-801fd9de7086",
   "metadata": {
    "tags": []
   },
   "outputs": [],
   "source": [
    "import numpy as np\n",
    "\n",
    "from skimage import io\n",
    "from skimage import filters\n",
    "from skimage import measure\n",
    "\n",
    "import matplotlib.pyplot as plt\n",
    "\n",
    "import pandas as pd"
   ]
  },
  {
   "cell_type": "markdown",
   "id": "954be28b-aceb-4f34-b350-070a57e5bc8e",
   "metadata": {},
   "source": [
    "### Open images\n",
    "\n",
    "To get started with our \"counting objects\" task, the first thing we need to do is to open an image. We will use as example image [`003003-10.tif`](https://github.com/RMS-DAIM/introduction-to-image-analysis/blob/main/Data/idr0028/003003-10.tif), where some cells have been stained for *nuclei (Hoescht, ch0)*, *tubulin (AlexaFluor568, ch1)*, *actin (AlexaFluor488, ch2)*, and *YAP/TAZ (AlexaFluor647, ch3)* and imaged with fluorescent microscopy. You can find more information about this [public image dataset](https://idr.openmicroscopy.org/webclient/?show=plate-5679) in [the associated publication](https://www.nature.com/articles/sdata201718).\n",
    "\n",
    "Next, we will display our example image to screen - it's always good practice to get an idea about the kind of data we're working with! We will be working only with the nuclei (ch0), so we will need to make sure to select the correct channel."
   ]
  },
  {
   "cell_type": "code",
   "execution_count": null,
   "id": "50afe652-8197-450c-b5fc-e02694cbd2e1",
   "metadata": {
    "tags": []
   },
   "outputs": [],
   "source": [
    "# read .tif file\n",
    "im_read = io.imread('../../Data/idr0028/003003-10.tif')"
   ]
  },
  {
   "cell_type": "code",
   "execution_count": null,
   "id": "c9bf751c-5f6b-4c8d-b598-85ea748c7f72",
   "metadata": {
    "tags": []
   },
   "outputs": [],
   "source": [
    "# print image type\n",
    "print('Image type:', type(im_read))"
   ]
  },
  {
   "cell_type": "code",
   "execution_count": null,
   "id": "04b7a6af-57d1-45b9-bd4e-197761334752",
   "metadata": {
    "tags": []
   },
   "outputs": [],
   "source": [
    "# print image dimensions\n",
    "print('Image dimensions:', im_read.shape)"
   ]
  },
  {
   "cell_type": "markdown",
   "id": "244af15d-5858-4e45-b19c-4b8c1e3ee6e7",
   "metadata": {},
   "source": [
    "The image dimensions are currently in the (y, x, c) format. Ideally, by convention, we would want the dimensions of the image to be (c, x, y). We can rearrange the dimensions by using the numpy function `transpose`."
   ]
  },
  {
   "cell_type": "code",
   "execution_count": null,
   "id": "95fe7ae2-9cfb-4dbe-8caf-41b08808d427",
   "metadata": {
    "tags": []
   },
   "outputs": [],
   "source": [
    "# rearrange channels\n",
    "im_all = np.transpose(im_read, (2, 0, 1))\n",
    "print('New image dimensions:', im_all.shape)"
   ]
  },
  {
   "cell_type": "code",
   "execution_count": null,
   "id": "1a09fe6d-941e-49ed-8402-be9baac2c278",
   "metadata": {
    "tags": []
   },
   "outputs": [],
   "source": [
    "# display all channels \n",
    "fig, axs = plt.subplots(2, 2, figsize=(8,6))\n",
    "\n",
    "axs[0, 0].imshow(im_all[0,], cmap='gray')\n",
    "axs[0, 0].set_title('ch0: nuclei (Hoechst)')\n",
    "axs[0, 0].axis('off')\n",
    "\n",
    "axs[0, 1].imshow(im_all[1,], cmap='gray')\n",
    "axs[0, 1].set_title('ch1: tubulin (AlexaFluor568)')\n",
    "axs[0, 1].axis('off')\n",
    "\n",
    "axs[1, 0].imshow(im_all[2,], cmap='gray')\n",
    "axs[1, 0].set_title('ch2: actin (AlexaFluor488)')\n",
    "axs[1, 0].axis('off')\n",
    "\n",
    "axs[1, 1].imshow(im_all[3,], cmap='gray')\n",
    "axs[1, 1].set_title('ch3: YAP/TAZ (AlexaFluor647)')\n",
    "axs[1, 1].axis('off')\n",
    "\n",
    "plt.tight_layout()"
   ]
  },
  {
   "cell_type": "code",
   "execution_count": null,
   "id": "ddb4ed7b-722d-467f-9788-1f5d24b05deb",
   "metadata": {
    "tags": []
   },
   "outputs": [],
   "source": [
    "# select the channel containing the nuclei\n",
    "im = im_all[0,]"
   ]
  },
  {
   "cell_type": "code",
   "execution_count": null,
   "id": "419749a2-2b6f-4597-b563-e05e6a88aabf",
   "metadata": {
    "tags": []
   },
   "outputs": [],
   "source": [
    "# display image\n",
    "fig, ax = plt.subplots(figsize=(4,3))\n",
    "ax.imshow(im, cmap='gray')\n",
    "ax.set_title('ch0: nuclei (Hoechst)')\n",
    "ax.axis('off')\n",
    "plt.tight_layout()"
   ]
  },
  {
   "cell_type": "markdown",
   "id": "b708772a-6098-4aeb-9050-94b558856471",
   "metadata": {},
   "source": [
    "### Use filters to suppress noise\n",
    "\n",
    "Many image processing tasks include filtering to suppress noise, improve signal-to-noise ratio, or bring out the features of the image we are interested in.\n",
    "\n",
    "Please keep in mind that often by applying filters we change the histogram of the image, and, therefore, we won't be able to perform some quantifications related to signal intensity **after** filtering.\n",
    "\n",
    "In this example, we are not interested in quantifying signal intensities (i.e., how bright the nuclei are), so we're good to proceed!\n",
    "\n",
    "[`skimage`](https://scikit-image.org/docs/stable/api/skimage.html) has many filters already built in! You can find them in the submodule [`skimage.filters`](https://scikit-image.org/docs/stable/api/skimage.filters.html).\n",
    "\n",
    "Here we'll test a [Gaussian blur](https://en.wikipedia.org/wiki/Gaussian_blur), which is a standard method to reduce image noise by blurring details. One important parameter is `sigma`, which is the standard deviation of the Gaussian kernel. You can think of it as the \"size of the brush\" you'll use to smooth the image features."
   ]
  },
  {
   "cell_type": "code",
   "execution_count": null,
   "id": "773c8da0-40c3-4c07-a994-a56b00516607",
   "metadata": {
    "tags": []
   },
   "outputs": [],
   "source": [
    "# Gaussian blur (sigma=5)\n",
    "im_gauss = filters.gaussian(im, sigma=5)"
   ]
  },
  {
   "cell_type": "code",
   "execution_count": null,
   "id": "354dce65-4946-4958-b65f-d7834cb509a4",
   "metadata": {
    "tags": []
   },
   "outputs": [],
   "source": [
    "# display original image next to filtered one\n",
    "fig, axs = plt.subplots(1, 2, figsize=(8,3))\n",
    "\n",
    "axs[0].imshow(im, cmap='gray')\n",
    "axs[0].set_title('Original image')\n",
    "axs[0].axis('off')\n",
    "\n",
    "axs[1].imshow(im_gauss, cmap='gray')\n",
    "axs[1].set_title('Filtered image (Gaussian filter)')\n",
    "axs[1].axis('off')\n",
    "\n",
    "plt.tight_layout()"
   ]
  },
  {
   "cell_type": "markdown",
   "id": "3594bf2c-5d58-4e3d-8b71-d8c56b635633",
   "metadata": {},
   "source": [
    "<div style=\"background-color:#abd9e9; border-radius: 5px; padding: 10pt\"><strong>Task</strong> Using the templates below, create a new image called <code>im_gauss_test</code> with a different value for sigma and display it next to the original image - what do you notice? </div>"
   ]
  },
  {
   "cell_type": "code",
   "execution_count": null,
   "id": "ebc2596a-f33a-48ff-8ec3-58e1b5d9b535",
   "metadata": {
    "tags": []
   },
   "outputs": [],
   "source": [
    "# Gaussian blur (sigma=? YOU DECIDE!)\n",
    "im_gauss_test = ..."
   ]
  },
  {
   "cell_type": "code",
   "execution_count": null,
   "id": "7cd2ebef-ce49-480c-a71d-5c83b5bb4bbd",
   "metadata": {
    "tags": []
   },
   "outputs": [],
   "source": [
    "# display original image next to filtered one (im_gauss_test)\n",
    "fig, axs = plt.subplots(1, 2, figsize=(8,3))\n",
    "\n",
    "axs[0].imshow(im, cmap='gray')\n",
    "axs[0].set_title('Original image')\n",
    "axs[0].axis('off')\n",
    "\n",
    "# add your code to visualise the new image here\n",
    "\n",
    "plt.tight_layout()"
   ]
  },
  {
   "cell_type": "markdown",
   "id": "f4b7bd6c-bf15-471f-97c4-8f940a7868da",
   "metadata": {},
   "source": [
    "### Segment images using grey level thresholding\n",
    "\n",
    "The next step in our pipeline is segmentation. This is the process by which we separate the foreground (`True`) from the background (`False`) so that the subsequent analyses are performed only on the regions of interest.\n",
    "\n",
    "One simple way to segment images is by gray level thresholding: we \"keep\" all the pixels with values above a threshold (foreground) and we \"discard\" the rest (background).\n",
    "\n",
    "There are different ways to set this threshold by exploiting different algorigthms. With the function [`skimage.filters.try_all_threshold`](https://scikit-image.org/docs/stable/api/skimage.filters.html#skimage.filters.try_all_threshold), we can visualise a few options and decide which one performs best for our data! [Otsu's thresholding](https://en.wikipedia.org/wiki/Otsu%27s_method) is a common choice for this type of images, so after checking its performance on the example image, we'll apply it."
   ]
  },
  {
   "cell_type": "code",
   "execution_count": null,
   "id": "40431a72-60f2-457d-a14d-78f4ff319d11",
   "metadata": {
    "tags": []
   },
   "outputs": [],
   "source": [
    "# display various options for gray level thresholding\n",
    "fig, ax = filters.try_all_threshold(im_gauss, figsize=(8,10), verbose=False)\n",
    "plt.tight_layout()"
   ]
  },
  {
   "cell_type": "code",
   "execution_count": null,
   "id": "30debc24-0aa9-4585-81dd-f497febf7272",
   "metadata": {
    "tags": []
   },
   "outputs": [],
   "source": [
    "# Otsu thresholding performs quite well in this example, so we'll proceed by applying it to our image and display \n",
    "thresh = filters.threshold_otsu(im_gauss)\n",
    "im_thresh = im_gauss >= thresh\n",
    "\n",
    "# display the binary mask\n",
    "fig, ax = plt.subplots(figsize=(4,3))\n",
    "ax.imshow(im_thresh, cmap='gray')\n",
    "ax.set_title('Binary mask')\n",
    "ax.axis('off')\n",
    "plt.tight_layout()"
   ]
  },
  {
   "cell_type": "markdown",
   "id": "739e08eb-6122-4da9-bd26-17597d63204f",
   "metadata": {},
   "source": [
    "<div style=\"background-color:#abd9e9; border-radius: 5px; padding: 10pt\"><strong>Task</strong> Can you spot another thresholding method that works well on this image? Test it below! </div>"
   ]
  },
  {
   "cell_type": "code",
   "execution_count": null,
   "id": "af7abef2-ca9e-4e9c-9867-0e8f058643c8",
   "metadata": {},
   "outputs": [],
   "source": [
    "# Choose a different thresholding method among the ones displayed above!\n",
    "thresh_other = ...\n",
    "im_thresh_other = im_gauss >= thresh_other\n",
    "\n",
    "# display the binary mask\n",
    "fig, ax = plt.subplots(figsize=(4,3))\n",
    "# add your code to visualise your image here\n",
    "ax.axis('off')\n",
    "plt.tight_layout()"
   ]
  },
  {
   "cell_type": "markdown",
   "id": "3c2678b9-039a-49d1-a132-2de4b605deed",
   "metadata": {},
   "source": [
    "### Count objects\n",
    "\n",
    "One way to count the objects in our thresholded image is to exploit the function [`skimage.measure.label`](https://scikit-image.org/docs/stable/api/skimage.measure.html#skimage.measure.label). This function labels connected regions in the image with an integer, ultimately assigning a label to each object.\n",
    "\n",
    "After labelling, counting the objects is equivalent to counting the number of labels available in the image!"
   ]
  },
  {
   "cell_type": "code",
   "execution_count": null,
   "id": "b51ecec4-1f09-4ade-9c1f-9dae15ee96b1",
   "metadata": {
    "tags": []
   },
   "outputs": [],
   "source": [
    "# label objects and visualise the result\n",
    "labels = measure.label(im_thresh)\n",
    "\n",
    "fig, ax = plt.subplots(figsize=(4,3))\n",
    "ax.imshow(labels, cmap='jet')\n",
    "ax.axis('off')\n",
    "plt.tight_layout()\n"
   ]
  },
  {
   "cell_type": "code",
   "execution_count": null,
   "id": "f6af0090-8a98-4f88-bd99-77658c48e14d",
   "metadata": {
    "tags": []
   },
   "outputs": [],
   "source": [
    "# count the objects - find the maximum integer assigned to a label!\n",
    "print('There are', labels.max(), 'objects in the image')"
   ]
  },
  {
   "cell_type": "markdown",
   "id": "66edb9f9-b673-4db8-a51c-4b1c8c1ce0b7",
   "metadata": {},
   "source": [
    "### Perform basic morphological quantification\n",
    "We can perform some basic morphological quantification by using the function [`skimage.measure.regionprops_table`](https://scikit-image.org/docs/stable/api/skimage.measure.html#skimage.measure.regionprops_table). Check the documentation to see all the different output we can obtain!\n",
    "\n",
    "In this example, we are going to show the area, centroid (y and x coordinates), and eccentricity for each blob. We are going to save the data in a [Pandas dataframe](https://pandas.pydata.org/pandas-docs/stable/reference/api/pandas.DataFrame.html), which is a data structure containing labelled axes (one row for each object, one column for each feature)."
   ]
  },
  {
   "cell_type": "code",
   "execution_count": null,
   "id": "e33b83c9-49ae-4cc6-b0d5-eb7428ddd763",
   "metadata": {
    "tags": []
   },
   "outputs": [],
   "source": [
    "# measure properties\n",
    "props = measure.regionprops_table(labels, im, properties=['area', 'centroid', 'eccentricity'])\n",
    "props_df = pd.DataFrame(props)\n",
    "\n",
    "props_df.head(5)"
   ]
  },
  {
   "cell_type": "code",
   "execution_count": null,
   "id": "3115b720-4249-479c-8509-94b3c8fd906d",
   "metadata": {
    "tags": []
   },
   "outputs": [],
   "source": [
    "# add image and object ID to dataframe\n",
    "props_df['image_ID'] = '003003-10.tif'\n",
    "props_df['object_ID'] = props_df.index+1\n",
    "\n",
    "props_df.head()"
   ]
  },
  {
   "cell_type": "code",
   "execution_count": null,
   "id": "b743752d-793b-46a5-8cdb-0796e0ee5c35",
   "metadata": {
    "tags": []
   },
   "outputs": [],
   "source": [
    "# display some results\n",
    "fig, axs = plt.subplots(1, 2, figsize=(4,3))\n",
    "\n",
    "axs[0].boxplot(props_df['area'])\n",
    "axs[0].set_title('Nuclear area (px)')\n",
    "\n",
    "axs[1].boxplot(props_df['eccentricity'])\n",
    "axs[1].set_title('Nuclear eccentricity')\n",
    "\n",
    "plt.tight_layout()"
   ]
  },
  {
   "cell_type": "markdown",
   "id": "764c8181-7f15-45c7-bf5c-7a224da29f87",
   "metadata": {},
   "source": [
    "### Bonus track\n",
    "It is always good practice to visualise our results! So we can now display on the segmented image some of the basic morphological parameters we obtained. As an example, we show the centroids of each blob as a magenta dot. Can you spot where things have not gone exactly as expected?"
   ]
  },
  {
   "cell_type": "code",
   "execution_count": null,
   "id": "94c594fb-3831-4c79-9697-fe447bd77200",
   "metadata": {
    "tags": []
   },
   "outputs": [],
   "source": [
    "# display segmented image\n",
    "im_segm = im * im_thresh\n",
    "\n",
    "fig, ax = plt.subplots(figsize=(8,6))\n",
    "ax.imshow(im_segm, cmap='gray')\n",
    "ax.axis('off')\n",
    "plt.tight_layout()\n",
    "\n",
    "# plot centroids\n",
    "plt.plot(props_df['centroid-1'], props_df['centroid-0'], 'co')\n",
    "plt.show()"
   ]
  },
  {
   "cell_type": "markdown",
   "id": "5925c4ca-14b8-4fc2-94f2-6ef96a339914",
   "metadata": {},
   "source": [
    "<div style=\"background-color:#abd9e9; border-radius: 5px; padding: 10pt\"><strong>Task</strong> How would we go about running the same pipeline for a different image? </div>"
   ]
  },
  {
   "cell_type": "markdown",
   "id": "249432b2-132e-48ac-a385-f024b38513f7",
   "metadata": {},
   "source": [
    "### Further reading\n",
    "If you're interested in knowing more about image analysis in Python, there are a lot of free resources out there! One good starting point is the [IAFIG-RMS Python for Bioimage Analysis Course](https://github.com/RMS-DAIM/Python-for-Bioimage-Analysis). Good luck with your image analysis adventures!"
   ]
  },
  {
   "cell_type": "code",
   "execution_count": null,
   "id": "066a18f6-5ebb-44ce-b2ea-f8bdcb0e0cd4",
   "metadata": {},
   "outputs": [],
   "source": []
  }
 ],
 "metadata": {
  "kernelspec": {
   "display_name": "Python 3 (ipykernel)",
   "language": "python",
   "name": "python3"
  },
  "language_info": {
   "codemirror_mode": {
    "name": "ipython",
    "version": 3
   },
   "file_extension": ".py",
   "mimetype": "text/x-python",
   "name": "python",
   "nbconvert_exporter": "python",
   "pygments_lexer": "ipython3",
   "version": "3.10.15"
  }
 },
 "nbformat": 4,
 "nbformat_minor": 5
}
