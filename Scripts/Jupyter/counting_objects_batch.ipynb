{
 "cells": [
  {
   "cell_type": "markdown",
   "id": "9ce24eea-621f-4cfd-b020-9debb2909b1f",
   "metadata": {},
   "source": [
    "# EXERCISE - Counting objects workflow (batch)"
   ]
  },
  {
   "cell_type": "markdown",
   "id": "7683570a-a3ab-4d7f-9e7c-4d506b156c08",
   "metadata": {},
   "source": [
    "Following on from the previous [notebook](https://github.com/RMS-DAIM/introduction-to-image-analysis/tree/main/Scripts/Jupyter/counting_objects.ipynb), we run the same pipeline on all the images available in the [`Data/idr0028`](https://github.com/RMS-DAIM/introduction-to-image-analysis/tree/main/Data/idr0028) folder. \n",
    "\n",
    "Fill in the gaps `[...]` in the notebook and look at the Tasks as you go through to achieve the batch analysis. Solutions are available in the Scripts folder, but please give it a good try first! Also, try not to use ChatGPT (but Google is allowed!)"
   ]
  },
  {
   "cell_type": "markdown",
   "id": "c616245c-20f8-40fc-a3a1-aaebacbf7586",
   "metadata": {
    "tags": []
   },
   "source": [
    "### Import libraries\n",
    "\n",
    "Note we are importing also the library `os` (API [here](https://docs.python.org/3/library/os.html)) which provides miscellaneous operating system interfaces."
   ]
  },
  {
   "cell_type": "code",
   "execution_count": null,
   "id": "b5f88a7e-615f-47e0-8a73-4760235e15ce",
   "metadata": {
    "tags": []
   },
   "outputs": [],
   "source": [
    "import os\n",
    "\n",
    "import numpy as np\n",
    "\n",
    "from skimage import io\n",
    "from skimage import filters\n",
    "from skimage import measure\n",
    "\n",
    "import matplotlib.pyplot as plt\n",
    "\n",
    "import pandas as pd"
   ]
  },
  {
   "cell_type": "markdown",
   "id": "acb5b15c-d4c3-4c55-a7f3-ce0bb7514f1a",
   "metadata": {
    "tags": []
   },
   "source": [
    "### Import data\n",
    "This time we are reading all of the files in the folder - note the use of the wildcard `*`!"
   ]
  },
  {
   "cell_type": "code",
   "execution_count": null,
   "id": "af068243-2f85-434e-9ea8-336964c92217",
   "metadata": {
    "tags": []
   },
   "outputs": [],
   "source": [
    "# get the list of all files and directories\n",
    "path = '../../Data/idr0028/'\n",
    "dir_list = os.listdir(path)\n",
    "\n",
    "print(*dir_list, sep='\\n')"
   ]
  },
  {
   "cell_type": "code",
   "execution_count": null,
   "id": "88cb7949-3a9b-47ff-a2c2-9b33b0db405c",
   "metadata": {
    "tags": []
   },
   "outputs": [],
   "source": [
    "# read all .tif files in folder\n",
    "im_read = io.imread('../../Data/idr0028/*.tif')"
   ]
  },
  {
   "cell_type": "code",
   "execution_count": null,
   "id": "5823b81a-bb0e-498c-bf93-5bd35a36d15d",
   "metadata": {
    "tags": []
   },
   "outputs": [],
   "source": [
    "# check the dimensions of the object\n",
    "print('Object dimensions:', im_read.shape)"
   ]
  },
  {
   "cell_type": "markdown",
   "id": "d7741c12-7cab-4bf3-b402-bf2032ba7fec",
   "metadata": {},
   "source": [
    "<div style=\"background-color:#abd9e9; border-radius: 5px; padding: 10pt\"><strong>Task</strong> The image dimensions are currently in the (n, y, x, c) format. Ideally, by convention, we would want the dimensions of the image to be (n, c, x, y). We can rearrange the dimensions by using the numpy function <code>transpose</code>.</div>"
   ]
  },
  {
   "cell_type": "code",
   "execution_count": null,
   "id": "dd008852-3eed-415b-b044-9fc4f2e6169a",
   "metadata": {
    "tags": []
   },
   "outputs": [],
   "source": [
    "im_all = [...]\n",
    "print('New object dimensions:', im_all.shape)"
   ]
  },
  {
   "cell_type": "markdown",
   "id": "5bdded1e-9c89-4db0-99d6-418314268eb0",
   "metadata": {},
   "source": [
    "<div style=\"background-color:#abd9e9; border-radius: 5px; padding: 10pt\"><strong>Task</strong> We can visualise some example nuclear images by running the cell below. The variable <code>im_idx</code> indicates which image we want to open (first=0, second=1, ...); how do we select the correct image from <code>im_all</code>?</div>"
   ]
  },
  {
   "cell_type": "code",
   "execution_count": null,
   "id": "eddd4c0e-7a33-42d1-97a0-ae738dece4ca",
   "metadata": {
    "tags": []
   },
   "outputs": [],
   "source": [
    "# select image\n",
    "im_idx = 0\n",
    "im = [...]\n",
    "\n",
    "# display the chosen image\n",
    "fig, ax = plt.subplots(figsize=(4,3))\n",
    "ax.imshow(im, cmap='gray')\n",
    "ax.axis('off')\n",
    "plt.tight_layout()"
   ]
  },
  {
   "cell_type": "markdown",
   "id": "f205f4fb-3880-4284-ba4e-76b01763300a",
   "metadata": {
    "tags": []
   },
   "source": [
    "### Perform the analysis on one image at the time"
   ]
  },
  {
   "cell_type": "markdown",
   "id": "d7bdbfaa-99fa-4a99-b7be-30c58f58c7aa",
   "metadata": {},
   "source": [
    "<div style=\"background-color:#abd9e9; border-radius: 5px; padding: 10pt\"><strong>Task</strong> By using a <code>for</code> loop, we can open one image at the time, and perform the same exact pipeline as before to count the objects and measure their area and eccentricity. We can use the numpy function <code>append</code> to save the results for object count in an array called <code>obj_count</code> and create a pandas dataframe called <code>props_df</code> where each row represents one object and each column one measurement (hint! You might need the pandas function <code>concat</code> with the flag <code>ignore_index=True</code>).</div>"
   ]
  },
  {
   "cell_type": "code",
   "execution_count": null,
   "id": "fa712c91-3c0e-4860-9bcb-6cfb09546524",
   "metadata": {
    "tags": []
   },
   "outputs": [],
   "source": [
    "# initialise output\n",
    "obj_count = []\n",
    "props_df = pd.DataFrame()\n",
    "\n",
    "# set up for loop for all the images available in the folder\n",
    "[...]"
   ]
  },
  {
   "cell_type": "code",
   "execution_count": null,
   "id": "53c318d6-0768-49af-b653-ba5be1f4377d",
   "metadata": {
    "tags": []
   },
   "outputs": [],
   "source": [
    "# print output [obj_count]\n",
    "print('The number of nuclei for each image is:', obj_count)"
   ]
  },
  {
   "cell_type": "code",
   "execution_count": null,
   "id": "19bf2af6-bb7f-4f88-9b49-dff86a436cfc",
   "metadata": {
    "tags": []
   },
   "outputs": [],
   "source": [
    "for im_idx in range(im_all.shape[0]):\n",
    "    print('The number of nuclei in', dir_list[im_idx], 'is', obj_count[im_idx])"
   ]
  },
  {
   "cell_type": "code",
   "execution_count": null,
   "id": "c1389261-94c6-4a93-b51d-6ad6c6c6b8ce",
   "metadata": {
    "tags": []
   },
   "outputs": [],
   "source": [
    "# show the beginning of the properties dataframe\n",
    "props_df.head()"
   ]
  },
  {
   "cell_type": "code",
   "execution_count": null,
   "id": "7eb234aa-f21d-4570-a9ca-bd43cf8ec753",
   "metadata": {
    "tags": []
   },
   "outputs": [],
   "source": [
    "# how many nuclei did we analyse?\n",
    "print('We analysed', len(props_df), 'nuclei in', im_all.shape[0], 'images')"
   ]
  },
  {
   "cell_type": "markdown",
   "id": "c134dedf-f01b-49f6-8761-b6fb95988c81",
   "metadata": {},
   "source": [
    "### Plot some results"
   ]
  },
  {
   "cell_type": "code",
   "execution_count": null,
   "id": "4e256f57-60f1-472a-b571-2577e89d7fe4",
   "metadata": {
    "tags": []
   },
   "outputs": [],
   "source": [
    "fig, axs = plt.subplots(1, 2, figsize=(4,3))\n",
    "\n",
    "axs[0].boxplot(props_df['area'])\n",
    "axs[0].set_title('Nuclear area (px)')\n",
    "\n",
    "axs[1].boxplot(props_df['eccentricity'])\n",
    "axs[1].set_title('Nuclear eccentricity')\n",
    "\n",
    "plt.tight_layout()"
   ]
  },
  {
   "cell_type": "markdown",
   "id": "c1510f33-fe72-43e4-b3f3-8d4d9fa303cc",
   "metadata": {},
   "source": [
    "### Save outputs"
   ]
  },
  {
   "cell_type": "markdown",
   "id": "0c6dd5c7-9014-46d6-a286-850875f70a6e",
   "metadata": {},
   "source": [
    "<div style=\"background-color:#abd9e9; border-radius: 5px; padding: 10pt\"><strong>Task</strong> We can save the <code>props_df</code> dataframe as an Excel file with the pandas function <code>to_excel</code>.</div>"
   ]
  },
  {
   "cell_type": "code",
   "execution_count": null,
   "id": "e18b75a2-4bbb-4ef5-99ab-247f12893ce4",
   "metadata": {
    "tags": []
   },
   "outputs": [],
   "source": [
    "# save dataframe as excel file\n",
    "[...]"
   ]
  },
  {
   "cell_type": "markdown",
   "id": "00065683-72a2-48a2-a7f1-56b5169a4d23",
   "metadata": {},
   "source": [
    "<div style=\"background-color:#c1c3d7; border-radius: 5px; padding: 10pt\"><strong>Task (difficult!)</strong> We can save the label images using a function called <code>imsave</code> inside the <code>skimage.io</code> module. This will require setting up another <code>for</code> loop and think of a way to work with output file names. Give it a go!</div>"
   ]
  },
  {
   "cell_type": "code",
   "execution_count": null,
   "id": "230e2dbb-9b32-4f3a-b5ee-69bb1d5c7e5f",
   "metadata": {
    "tags": []
   },
   "outputs": [],
   "source": [
    "# save label images\n",
    "[...]"
   ]
  },
  {
   "cell_type": "markdown",
   "id": "6c5077bd-4d97-412e-8f67-855ef81ab256",
   "metadata": {},
   "source": [
    "### Further reading\n",
    "If you're interested in knowing more about image analysis in Python, there are a lot of free resources out there! One good starting point is the [IAFIG-RMS Python for Bioimage Analysis Course](https://github.com/RMS-DAIM/Python-for-Bioimage-Analysis). Good luck with your image analysis adventures!"
   ]
  }
 ],
 "metadata": {
  "kernelspec": {
   "display_name": "Python 3 (ipykernel)",
   "language": "python",
   "name": "python3"
  },
  "language_info": {
   "codemirror_mode": {
    "name": "ipython",
    "version": 3
   },
   "file_extension": ".py",
   "mimetype": "text/x-python",
   "name": "python",
   "nbconvert_exporter": "python",
   "pygments_lexer": "ipython3",
   "version": "3.12.7"
  }
 },
 "nbformat": 4,
 "nbformat_minor": 5
}
