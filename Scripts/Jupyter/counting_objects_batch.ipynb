{
 "cells": [
  {
   "cell_type": "markdown",
   "id": "9ce24eea-621f-4cfd-b020-9debb2909b1f",
   "metadata": {},
   "source": [
    "# Counting objects workflow (batch)\n",
    "\n",
    "---\n",
    "*Introduction to Image Analysis Workshop*\n",
    "\n",
    "*Stefania Marcotti (stefania.marcotti@kcl.ac.uk)*\n",
    "\n",
    "*Intro to building batch image analysis pipelines with Python*\n",
    "\n",
    "*CC-BY-SA-4.0 license: creativecommons.org/licenses/by-sa/4.0/*\n",
    "\n",
    "---"
   ]
  },
  {
   "cell_type": "markdown",
   "id": "7683570a-a3ab-4d7f-9e7c-4d506b156c08",
   "metadata": {},
   "source": [
    "Following on from the previous [notebook](https://github.com/RMS-DAIM/introduction-to-image-analysis/tree/main/Scripts/Jupyter/counting_objects.ipynb), we run the same pipeline on all the images available in the [`Data/idr0028`](https://github.com/RMS-DAIM/introduction-to-image-analysis/tree/main/Data/idr0028) folder."
   ]
  },
  {
   "cell_type": "markdown",
   "id": "c616245c-20f8-40fc-a3a1-aaebacbf7586",
   "metadata": {
    "tags": []
   },
   "source": [
    "### Import libraries"
   ]
  },
  {
   "cell_type": "code",
   "execution_count": null,
   "id": "b5f88a7e-615f-47e0-8a73-4760235e15ce",
   "metadata": {
    "tags": []
   },
   "outputs": [],
   "source": [
    "import numpy as np\n",
    "\n",
    "from skimage import io\n",
    "from skimage import filters\n",
    "from skimage import measure\n",
    "\n",
    "import matplotlib.pyplot as plt\n",
    "\n",
    "import pandas as pd"
   ]
  },
  {
   "cell_type": "markdown",
   "id": "acb5b15c-d4c3-4c55-a7f3-ce0bb7514f1a",
   "metadata": {
    "tags": []
   },
   "source": [
    "### Import data\n",
    "This time we are reading all of the files in the folder - note the use of the wildcard `*`!"
   ]
  },
  {
   "cell_type": "code",
   "execution_count": null,
   "id": "88cb7949-3a9b-47ff-a2c2-9b33b0db405c",
   "metadata": {
    "tags": []
   },
   "outputs": [],
   "source": [
    "# read all .tif files in folder\n",
    "im_read = io.imread('../../Data/idr0028/*.tif')"
   ]
  },
  {
   "cell_type": "code",
   "execution_count": null,
   "id": "5823b81a-bb0e-498c-bf93-5bd35a36d15d",
   "metadata": {
    "tags": []
   },
   "outputs": [],
   "source": [
    "# check the dimensions of the object\n",
    "print('Object dimensions:', im_read.shape)"
   ]
  },
  {
   "cell_type": "markdown",
   "id": "2051dd64-fcde-41d6-a820-9533825a989e",
   "metadata": {},
   "source": [
    "The image dimensions are currently in the (n, y, x, c) format. Ideally, by convention, we would want the dimensions of the image to be (n, c, x, y). We can rearrange the dimensions by using the numpy function `transpose`."
   ]
  },
  {
   "cell_type": "code",
   "execution_count": null,
   "id": "dd008852-3eed-415b-b044-9fc4f2e6169a",
   "metadata": {
    "tags": []
   },
   "outputs": [],
   "source": [
    "im_all = np.transpose(im_read, (0, 3, 1, 2))\n",
    "print('New object dimensions:', im_all.shape)"
   ]
  },
  {
   "cell_type": "markdown",
   "id": "728713e7-b2b7-442c-8ab9-1fa8387949d0",
   "metadata": {},
   "source": [
    "We can visualise some example nuclear images by running the cell below. The variable `im_idx` indicates which image we want to open (first=1, second=2, ...)"
   ]
  },
  {
   "cell_type": "code",
   "execution_count": null,
   "id": "eddd4c0e-7a33-42d1-97a0-ae738dece4ca",
   "metadata": {
    "tags": []
   },
   "outputs": [],
   "source": [
    "# select image\n",
    "im_idx = 3\n",
    "im = im_all[im_idx,0,]\n",
    "\n",
    "# display the chosen image\n",
    "fig, ax = plt.subplots(figsize=(4,3))\n",
    "ax.imshow(im, cmap='gray')\n",
    "ax.axis('off')\n",
    "plt.tight_layout()"
   ]
  },
  {
   "cell_type": "markdown",
   "id": "f205f4fb-3880-4284-ba4e-76b01763300a",
   "metadata": {
    "tags": []
   },
   "source": [
    "### Perform the analysis on one image at the time\n",
    "By using a `for` loop, we can open one image at the time, and perform the same exact pipeline as before to count the objects and measure their area and eccentricity. We can then append the results in a long list where each cell is an n=1 and plot the output."
   ]
  },
  {
   "cell_type": "code",
   "execution_count": null,
   "id": "fa712c91-3c0e-4860-9bcb-6cfb09546524",
   "metadata": {
    "tags": []
   },
   "outputs": [],
   "source": [
    "# initialise output\n",
    "obj_count = []\n",
    "props_df = pd.DataFrame()\n",
    "\n",
    "# set up for loop for all the images available in the folder\n",
    "for im_idx in range(im_all.shape[0]):\n",
    "    # open image (only ch0)\n",
    "    im = im_all[im_idx,0,]\n",
    "    # filter with Gaussian\n",
    "    im_gauss = filters.gaussian(im, sigma=5)\n",
    "    # threshold with Otsu\n",
    "    thresh = filters.threshold_otsu(im_gauss)\n",
    "    im_thresh = im_gauss >= thresh\n",
    "    # label mask\n",
    "    labels = measure.label(im_thresh)\n",
    "    # count objects\n",
    "    obj_count = np.append(obj_count,labels.max())\n",
    "    # measure properties\n",
    "    props = measure.regionprops_table(labels, im, properties=['area', 'eccentricity'])\n",
    "    props_df = pd.concat([props_df, pd.DataFrame(props)], ignore_index=True)"
   ]
  },
  {
   "cell_type": "code",
   "execution_count": null,
   "id": "53c318d6-0768-49af-b653-ba5be1f4377d",
   "metadata": {
    "tags": []
   },
   "outputs": [],
   "source": [
    "# print output [obj_count]\n",
    "print('The number of nuclei for each image is:', obj_count)"
   ]
  },
  {
   "cell_type": "code",
   "execution_count": null,
   "id": "c1389261-94c6-4a93-b51d-6ad6c6c6b8ce",
   "metadata": {
    "tags": []
   },
   "outputs": [],
   "source": [
    "# show the beginning of the properties dataframe\n",
    "props_df.head()"
   ]
  },
  {
   "cell_type": "code",
   "execution_count": null,
   "id": "7eb234aa-f21d-4570-a9ca-bd43cf8ec753",
   "metadata": {
    "tags": []
   },
   "outputs": [],
   "source": [
    "# how many nuclei did we analyse?\n",
    "print('We analysed', len(props_df), 'nuclei in', im_all.shape[0], 'images')"
   ]
  },
  {
   "cell_type": "markdown",
   "id": "c134dedf-f01b-49f6-8761-b6fb95988c81",
   "metadata": {},
   "source": [
    "### Plot some results"
   ]
  },
  {
   "cell_type": "code",
   "execution_count": null,
   "id": "4e256f57-60f1-472a-b571-2577e89d7fe4",
   "metadata": {
    "tags": []
   },
   "outputs": [],
   "source": [
    "fig, axs = plt.subplots(1, 2, figsize=(4,3))\n",
    "\n",
    "axs[0].boxplot(props_df['area'])\n",
    "axs[0].set_title('Nuclear area (px)')\n",
    "\n",
    "axs[1].boxplot(props_df['eccentricity'])\n",
    "axs[1].set_title('Nuclear eccentricity')\n",
    "\n",
    "plt.tight_layout()"
   ]
  },
  {
   "cell_type": "markdown",
   "id": "6c5077bd-4d97-412e-8f67-855ef81ab256",
   "metadata": {},
   "source": [
    "### Further reading\n",
    "If you're interested in knowing more about image analysis in Python, there are a lot of free resources out there! One good starting point is the [IAFIG-RMS Python for Bioimage Analysis Course](https://github.com/RMS-DAIM/Python-for-Bioimage-Analysis). Good luck with your image analysis adventures!"
   ]
  },
  {
   "cell_type": "code",
   "execution_count": null,
   "id": "a588e7f8-e7ff-46d9-afdb-36a42c22ce16",
   "metadata": {},
   "outputs": [],
   "source": []
  }
 ],
 "metadata": {
  "kernelspec": {
   "display_name": "Python 3 (ipykernel)",
   "language": "python",
   "name": "python3"
  },
  "language_info": {
   "codemirror_mode": {
    "name": "ipython",
    "version": 3
   },
   "file_extension": ".py",
   "mimetype": "text/x-python",
   "name": "python",
   "nbconvert_exporter": "python",
   "pygments_lexer": "ipython3",
   "version": "3.9.19"
  }
 },
 "nbformat": 4,
 "nbformat_minor": 5
}
