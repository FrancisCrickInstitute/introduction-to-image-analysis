{
 "cells": [
  {
   "cell_type": "markdown",
   "id": "dc8d60ad-204c-4db0-8a6d-9d2a67412141",
   "metadata": {},
   "source": [
    "# Welcome to Jupyter!\n",
    "\n",
    "---\n",
    "*Introduction to Image Analysis Workshop*\n",
    "\n",
    "*Stefania Marcotti (stefania.marcotti@kcl.ac.uk)*\n",
    "\n",
    "*Intro to variables and arrays with Python*\n",
    "\n",
    "*CC-BY-SA-4.0 license: creativecommons.org/licenses/by-sa/4.0/*\n",
    "\n",
    "---\n",
    "\n",
    "We are going to cover here some foundational concepts about variables, arrays, and loops, before delving into images in the next notebook."
   ]
  },
  {
   "cell_type": "markdown",
   "id": "1735b159-9275-45fd-ad5a-c854286b1afd",
   "metadata": {},
   "source": [
    "## Variables"
   ]
  },
  {
   "cell_type": "markdown",
   "id": "73e0cf79-24b1-483b-8029-9d71377ab0d4",
   "metadata": {},
   "source": [
    "We can use any Python interpreter as a calculator"
   ]
  },
  {
   "cell_type": "code",
   "execution_count": null,
   "id": "0d68bf78-44c3-4a13-9e2f-9f0938f1a253",
   "metadata": {
    "tags": []
   },
   "outputs": [],
   "source": [
    "3 + 2 * 5"
   ]
  },
  {
   "cell_type": "markdown",
   "id": "67b717f2-ad7d-4120-ba0f-9d0554d0ae33",
   "metadata": {},
   "source": [
    "This is great but not very interesting. To do anything useful with data, we need to assign its value to a variable. For example, we can assign the value `60` to the variable `weight_kg` and the value `1.7` to the variable `height_m`:"
   ]
  },
  {
   "cell_type": "code",
   "execution_count": null,
   "id": "1291dbfe-c84e-4957-8d26-5928d36885e9",
   "metadata": {
    "tags": []
   },
   "outputs": [],
   "source": [
    "weight_kg = 60\n",
    "height_m = 1.7"
   ]
  },
  {
   "cell_type": "code",
   "execution_count": null,
   "id": "b02f30b1-e8e6-4719-87ce-3e4cb5839e95",
   "metadata": {
    "tags": []
   },
   "outputs": [],
   "source": [
    "print('The weight in kilograms is', weight_kg, 'kg')\n",
    "print('The height in meters is', height_m, 'm')"
   ]
  },
  {
   "cell_type": "markdown",
   "id": "d3596cfd-5ee0-44a3-8889-fc31a207e590",
   "metadata": {},
   "source": [
    "Or we could assign the string `Frida` to the variable `name`, and the string `Kahlo` to the variable `surname`:"
   ]
  },
  {
   "cell_type": "code",
   "execution_count": null,
   "id": "5583ab3b-f86a-40d2-8437-7d9002e2f22f",
   "metadata": {
    "tags": []
   },
   "outputs": [],
   "source": [
    "name = 'Frida'\n",
    "surname = 'Kahlo'"
   ]
  },
  {
   "cell_type": "code",
   "execution_count": null,
   "id": "c38ce37a-12bb-4568-b07f-438ef7dde158",
   "metadata": {
    "tags": []
   },
   "outputs": [],
   "source": [
    "print('Their name is', name, surname)"
   ]
  },
  {
   "cell_type": "markdown",
   "id": "eb4d2a34-5f8c-4c3b-ae8b-1afa9007e3ef",
   "metadata": {},
   "source": [
    "Variables can have different types: they can be integers, floats, or strings"
   ]
  },
  {
   "cell_type": "code",
   "execution_count": null,
   "id": "2df6feca-a606-4125-9329-9f933d6547cf",
   "metadata": {
    "tags": []
   },
   "outputs": [],
   "source": [
    "type(weight_kg)"
   ]
  },
  {
   "cell_type": "code",
   "execution_count": null,
   "id": "a97cc80a-df67-49ed-9e3a-01760dd051c7",
   "metadata": {
    "tags": []
   },
   "outputs": [],
   "source": [
    "type(height_m)"
   ]
  },
  {
   "cell_type": "code",
   "execution_count": null,
   "id": "ff457eb1-3b07-4179-a6e6-3680e375bbeb",
   "metadata": {
    "tags": []
   },
   "outputs": [],
   "source": [
    "type(name)"
   ]
  },
  {
   "cell_type": "markdown",
   "id": "1e7b9cd3-e172-45ee-b789-9106d0c7fe30",
   "metadata": {},
   "source": [
    "<div style=\"background-color:#ffe66d; border-radius: 5px; padding: 10pt\"><strong>Note</strong> Not all operations are allowed on variables with different types!</div>"
   ]
  },
  {
   "cell_type": "code",
   "execution_count": null,
   "id": "794d41ba-2be4-45a9-9e3c-4f6614d0a2b5",
   "metadata": {
    "tags": []
   },
   "outputs": [],
   "source": [
    "weight_kg + name"
   ]
  },
  {
   "cell_type": "markdown",
   "id": "2e8efe52-e91b-4c04-ae85-6a44b4c2ee32",
   "metadata": {},
   "source": [
    "<div style=\"background-color:#abd9e9; border-radius: 5px; padding: 10pt\"><strong>Task</strong> Assign the value 25 to the variable <code>age</code> in the cell below - what type is this variable?</div>"
   ]
  },
  {
   "cell_type": "code",
   "execution_count": null,
   "id": "53dec18c-2918-4d97-8e13-4f416b5f77e5",
   "metadata": {},
   "outputs": [],
   "source": []
  },
  {
   "cell_type": "code",
   "execution_count": null,
   "id": "17093d9d-c503-42b2-bc67-bc2dd08c2d69",
   "metadata": {},
   "outputs": [],
   "source": []
  },
  {
   "cell_type": "markdown",
   "id": "d912c7e2-c299-4355-8ca1-75100e7ed1b0",
   "metadata": {},
   "source": [
    "We can perform operations between variables. For example, we could convert the weight from kg to lb:"
   ]
  },
  {
   "cell_type": "code",
   "execution_count": null,
   "id": "e483081c-a672-42db-b70c-36a489870526",
   "metadata": {
    "tags": []
   },
   "outputs": [],
   "source": [
    "weight_lb = 2.2 * weight_kg"
   ]
  },
  {
   "cell_type": "code",
   "execution_count": null,
   "id": "e8e93df2-8f35-41c7-aefe-e414a07e8ca8",
   "metadata": {
    "tags": []
   },
   "outputs": [],
   "source": [
    "print('The weight converted in pounds is', weight_lb)"
   ]
  },
  {
   "cell_type": "markdown",
   "id": "04224f37-022e-437e-995e-02c7179871ce",
   "metadata": {},
   "source": [
    "Or create a new variable `full_name` that joins the `name` and `surname` with a space in the middle:"
   ]
  },
  {
   "cell_type": "code",
   "execution_count": null,
   "id": "bd413787-64f1-4aac-96ba-4bb78a5a60da",
   "metadata": {
    "tags": []
   },
   "outputs": [],
   "source": [
    "full_name = name + ' ' + surname"
   ]
  },
  {
   "cell_type": "code",
   "execution_count": null,
   "id": "ee0cea20-a171-47e2-bde1-71afee0f4dc0",
   "metadata": {
    "tags": []
   },
   "outputs": [],
   "source": [
    "print('Their full name is', full_name)"
   ]
  },
  {
   "cell_type": "markdown",
   "id": "c40ee509-ac6a-41b6-97b4-afad63ab580a",
   "metadata": {},
   "source": [
    "<div style=\"background-color:#abd9e9; border-radius: 5px; padding: 10pt\"><strong>Task</strong> Create a new variable named <code>height_cm</code> that converts the value of <code>height_m</code> from meters to centimeters. (Hint hint: you have to multiply by 100!) </div>"
   ]
  },
  {
   "cell_type": "code",
   "execution_count": null,
   "id": "28cb92a6-43de-48c4-8e52-0fd42acc96be",
   "metadata": {
    "tags": []
   },
   "outputs": [],
   "source": []
  },
  {
   "cell_type": "code",
   "execution_count": null,
   "id": "1164c0df-a60f-44f0-8abd-e69452b4b8a7",
   "metadata": {
    "tags": []
   },
   "outputs": [],
   "source": []
  },
  {
   "cell_type": "markdown",
   "id": "76d5025e-a98f-4474-b071-234354592c5a",
   "metadata": {},
   "source": [
    "Variables can also be Boolean (`True`/`False`)"
   ]
  },
  {
   "cell_type": "code",
   "execution_count": null,
   "id": "7e405e90-374b-48de-b5d7-bffeef425bfb",
   "metadata": {
    "tags": []
   },
   "outputs": [],
   "source": [
    "condition_height = height_m > 1.9\n",
    "print(condition_height)"
   ]
  },
  {
   "cell_type": "code",
   "execution_count": null,
   "id": "e9c213a0-c5d2-4914-8a79-b779498a5875",
   "metadata": {
    "tags": []
   },
   "outputs": [],
   "source": [
    "condition_weight = weight_kg > 10\n",
    "print(condition_weight)"
   ]
  },
  {
   "cell_type": "markdown",
   "id": "309b4be0-5cc8-4f4d-a674-18216844fb82",
   "metadata": {},
   "source": [
    "And we can test for equality with `==` and `!=` similarly to Fiji "
   ]
  },
  {
   "cell_type": "code",
   "execution_count": null,
   "id": "0e57843e-7ee2-4ce0-99e9-cefb08141b1c",
   "metadata": {
    "tags": []
   },
   "outputs": [],
   "source": [
    "weight_lb == 2.2 * weight_kg"
   ]
  },
  {
   "cell_type": "code",
   "execution_count": null,
   "id": "b6dc0cac-9171-4414-8650-35bccfe8566f",
   "metadata": {
    "tags": []
   },
   "outputs": [],
   "source": [
    "weight_kg != weight_lb"
   ]
  },
  {
   "cell_type": "markdown",
   "id": "4f3e9dcd-178a-4238-9154-f6e78485ff73",
   "metadata": {
    "tags": []
   },
   "source": [
    "## Arrays"
   ]
  },
  {
   "cell_type": "markdown",
   "id": "87e931b3-4c48-4995-a87c-f80e1bf7427c",
   "metadata": {},
   "source": [
    "Similarly to Fiji, we can store a series of datapoints in an array. There are many ways to do this in Python; however, today we are going to use [Numpy](https://numpy.org/), which is a package that makes scientific computing relatively easy.\n",
    "\n",
    "When we want to use a module or a package in Python, we need to import it (we use the keywork `import`). We can also import specific functions by using the syntax [`from` module `import` function], if we only want to load a small subset of the available functions. Additionally, we can define aliases for modules' names with the keyword `as`."
   ]
  },
  {
   "cell_type": "code",
   "execution_count": null,
   "id": "b89e936e-4208-4fa0-adfa-759a2a88c5a5",
   "metadata": {
    "tags": []
   },
   "outputs": [],
   "source": [
    "import numpy as np"
   ]
  },
  {
   "cell_type": "markdown",
   "id": "9141385b-380e-4b60-99b5-9926b7724e61",
   "metadata": {},
   "source": [
    "We can create a 1-dimensional array `array1D` like this:"
   ]
  },
  {
   "cell_type": "code",
   "execution_count": null,
   "id": "cfac7a0b-205b-4020-a5bd-b525f2ebf72f",
   "metadata": {
    "tags": []
   },
   "outputs": [],
   "source": [
    "array1D = np.array([2, 5, 8])\n",
    "print(array1D)"
   ]
  },
  {
   "cell_type": "code",
   "execution_count": null,
   "id": "d835ba87-7ba6-4c67-8082-9723f8e96e6d",
   "metadata": {
    "tags": []
   },
   "outputs": [],
   "source": [
    "array1D_str = np.array(['a','b','c','d','e'])\n",
    "print(array1D_str)"
   ]
  },
  {
   "cell_type": "markdown",
   "id": "294bed31-9158-40ef-9d20-7435be633b83",
   "metadata": {},
   "source": [
    "We can interrogate the length of the array with the keyword `len`:"
   ]
  },
  {
   "cell_type": "code",
   "execution_count": null,
   "id": "b16870a6-0c65-4c35-bde8-cc18f003d3c5",
   "metadata": {
    "tags": []
   },
   "outputs": [],
   "source": [
    "print('The array contains', len(array1D), 'values')\n",
    "print('The array contains', len(array1D_str), 'letters')"
   ]
  },
  {
   "cell_type": "markdown",
   "id": "134d5dec-956e-4d81-a6ed-791c36e20cc3",
   "metadata": {},
   "source": [
    "And we can access specific positions of the array by using the `[]` notation. Please note that Python starts counting from zero!!"
   ]
  },
  {
   "cell_type": "code",
   "execution_count": null,
   "id": "677f67af-2ba8-43b3-b1b4-5c3fede243c4",
   "metadata": {
    "tags": []
   },
   "outputs": [],
   "source": [
    "print(array1D[0])\n",
    "print(array1D[2])\n",
    "print(array1D_str[0])\n",
    "print(array1D_str[3])"
   ]
  },
  {
   "cell_type": "markdown",
   "id": "12deb4d3-ca34-498d-ab7e-5f4df332d890",
   "metadata": {},
   "source": [
    "<div style=\"background-color:#ffe66d; border-radius: 5px; padding: 10pt\"><strong>Note</strong> We can only access elements within the bounds of the array</div>"
   ]
  },
  {
   "cell_type": "code",
   "execution_count": null,
   "id": "91829093-02fc-4ef9-9ca0-6e98baba9760",
   "metadata": {
    "tags": []
   },
   "outputs": [],
   "source": [
    "print(array1D[10])"
   ]
  },
  {
   "cell_type": "markdown",
   "id": "405bc3eb-868f-4e79-852c-424ddc13a48f",
   "metadata": {},
   "source": [
    "We can also create arrays with more dimensions:"
   ]
  },
  {
   "cell_type": "code",
   "execution_count": null,
   "id": "f3a28af5-a3b7-442e-9e0b-a7021aade18f",
   "metadata": {
    "tags": []
   },
   "outputs": [],
   "source": [
    "array2D = np.array([[1, 2, 3], [5, 7, 11]])\n",
    "print(array2D)"
   ]
  },
  {
   "cell_type": "markdown",
   "id": "25db32f9-5254-4ab5-a51a-2d14f1a899a0",
   "metadata": {},
   "source": [
    "And interrogate their dimensions with the function `shape`:"
   ]
  },
  {
   "cell_type": "code",
   "execution_count": null,
   "id": "2e227d61-a411-47b6-97c1-88820235ca14",
   "metadata": {
    "tags": []
   },
   "outputs": [],
   "source": [
    "print('The array has these dimensions (rows, columns):', array2D.shape)"
   ]
  },
  {
   "cell_type": "markdown",
   "id": "31f59407-5898-49f6-95cd-d1da3cee3f3b",
   "metadata": {},
   "source": [
    "To access specific positions in a n-dimensional array, we need to specify n positions. For a 2-dimensional array, the first value specifies the row, while the second specifies the column.\n",
    "![](./python-zero-index.svg)"
   ]
  },
  {
   "cell_type": "code",
   "execution_count": null,
   "id": "8904b9a8-6013-4900-881b-1786b030b8df",
   "metadata": {
    "tags": []
   },
   "outputs": [],
   "source": [
    "print(array2D[0,0])\n",
    "print(array2D[1,2])"
   ]
  },
  {
   "cell_type": "markdown",
   "id": "298e79e3-abae-47f8-8e2a-1db6d6dbc1d6",
   "metadata": {},
   "source": [
    "Otherwise the full row is returned:"
   ]
  },
  {
   "cell_type": "code",
   "execution_count": null,
   "id": "c1bf7e78-333c-4ce4-bebd-4a522527b5b4",
   "metadata": {
    "tags": []
   },
   "outputs": [],
   "source": [
    "print(array2D[0])"
   ]
  },
  {
   "cell_type": "markdown",
   "id": "70f9ef3a-a7f2-4bd6-8cfd-641aa5d85665",
   "metadata": {},
   "source": [
    "We can rearrange the dimensions of an array by using the `numpy` function `transpose` (API [here](https://numpy.org/doc/stable/reference/generated/numpy.transpose.html)) :"
   ]
  },
  {
   "cell_type": "code",
   "execution_count": null,
   "id": "47031526-d39c-4206-b61b-a1a4ce0b5040",
   "metadata": {},
   "outputs": [],
   "source": [
    "new_array2D = np.transpose(array2D)\n",
    "print(new_array2D)"
   ]
  },
  {
   "cell_type": "code",
   "execution_count": null,
   "id": "2b702289-cfad-4c84-8977-e9a58b2f275b",
   "metadata": {},
   "outputs": [],
   "source": [
    "print('The new array has these dimensions (rows, columns):', new_array2D.shape)"
   ]
  },
  {
   "cell_type": "markdown",
   "id": "b424acf4-562b-49b9-8d03-7cafabe8887f",
   "metadata": {},
   "source": [
    "<div style=\"background-color:#abd9e9; border-radius: 5px; padding: 10pt\"><strong>Task</strong> Create a new numerical array named <code>birthdays</code> where the first row contains the day, month, and year of your birthday, and the second row contains the day, month, and year of the person currently sitting next to you. Can you tell us how many years apart were you born? Were you born on the same month?</div>"
   ]
  },
  {
   "cell_type": "code",
   "execution_count": null,
   "id": "04249e40-2818-4838-a40a-396bd9604f6c",
   "metadata": {},
   "outputs": [],
   "source": []
  },
  {
   "cell_type": "code",
   "execution_count": null,
   "id": "ea5d0b34-afcf-4ab4-b856-3f4e8f4d3272",
   "metadata": {
    "tags": []
   },
   "outputs": [],
   "source": []
  },
  {
   "cell_type": "code",
   "execution_count": null,
   "id": "09858829-0eb4-4549-9461-acb1318e9087",
   "metadata": {},
   "outputs": [],
   "source": []
  },
  {
   "cell_type": "code",
   "execution_count": null,
   "id": "05b5bf6d-9d7b-4709-aeb3-7ebd5b7d8709",
   "metadata": {},
   "outputs": [],
   "source": []
  },
  {
   "cell_type": "markdown",
   "id": "0ca8175f-416e-4b75-8f5d-cfffb7a33bb2",
   "metadata": {},
   "source": [
    "### Loops"
   ]
  },
  {
   "cell_type": "markdown",
   "id": "dce999cc-57f9-49fe-b4bc-c8d9fd3d6007",
   "metadata": {},
   "source": [
    "We might want to perform an operation multiple times, on all elements of an array or on all files in a folder, similarly to what we've seen in Fiji. To do this we have to setup a recurring operation with a `for` loop."
   ]
  },
  {
   "cell_type": "code",
   "execution_count": null,
   "id": "5f51ef29-0c76-4466-a5df-073342eb4bc7",
   "metadata": {
    "tags": []
   },
   "outputs": [],
   "source": [
    "array1D = np.array([2, 5, 8])\n",
    "\n",
    "for element in array1D:\n",
    "    print(element)"
   ]
  },
  {
   "cell_type": "code",
   "execution_count": null,
   "id": "ef3b385e-2b2e-49e8-a432-226b3acb2dc9",
   "metadata": {
    "tags": []
   },
   "outputs": [],
   "source": [
    "array1D = np.array([2, 5, 8])\n",
    "\n",
    "for l in range(len(array1D)):\n",
    "    print('The element in position', l, 'is', array1D[l])"
   ]
  },
  {
   "cell_type": "code",
   "execution_count": null,
   "id": "749aad61-88f1-4cbb-a07f-a46c4105e845",
   "metadata": {
    "tags": []
   },
   "outputs": [],
   "source": [
    "array1D = np.array([2, 5, 8])\n",
    "\n",
    "sum_elements = 0\n",
    "for element in array1D:\n",
    "    print('\\nStarting value for sum for this iteration', sum_elements)\n",
    "    sum_elements = sum_elements + element\n",
    "    print('End value for sum for this iteration', sum_elements)\n",
    "\n",
    "print('\\nThe sum of all elements in the array is', sum_elements) "
   ]
  },
  {
   "cell_type": "code",
   "execution_count": null,
   "id": "2a0105e9-362c-4d5d-8de8-7ba22aea5e8c",
   "metadata": {
    "tags": []
   },
   "outputs": [],
   "source": [
    "array1D = np.array([2, 5, 8])\n",
    "\n",
    "sum_elements = 0\n",
    "for l in range(len(array1D)):\n",
    "    print('\\nStarting value for sum for iteration number', l, 'is', sum_elements)\n",
    "    sum_elements = sum_elements + array1D[l]\n",
    "    print('End value for sum for iteration number', l, 'is', sum_elements)\n",
    "\n",
    "print('\\nThe sum of all elements in the array is', sum_elements) \n",
    "print('The loop performed', len(array1D), 'iterations')"
   ]
  },
  {
   "cell_type": "markdown",
   "id": "f4a1ed92-322a-48eb-9766-0bf704f624c0",
   "metadata": {},
   "source": [
    "<div style=\"background-color:#abd9e9; border-radius: 5px; padding: 10pt\"><strong>Task</strong> Write a loop that calculates the sum of elements in a numerical array by adding each element and printing the final value </div>"
   ]
  },
  {
   "cell_type": "code",
   "execution_count": null,
   "id": "930197bd-6560-42b2-8273-cc90a918a41c",
   "metadata": {},
   "outputs": [],
   "source": []
  },
  {
   "cell_type": "code",
   "execution_count": null,
   "id": "14a96dfa-dbb8-4d60-b433-52b393e94359",
   "metadata": {},
   "outputs": [],
   "source": []
  },
  {
   "cell_type": "markdown",
   "id": "76839a33-d269-4b80-8a97-9d825f725141",
   "metadata": {},
   "source": [
    "### Further reading\n",
    "If you're interested in knowing more about basics of Python coding, there are a lot of free resources out there! A good one to start with, that inspired the content of this notebook, it's offered by the [Software Carpentries](https://software-carpentry.org/) and can be found [at this link](https://swcarpentry.github.io/python-novice-inflammation/).\n"
   ]
  }
 ],
 "metadata": {
  "kernelspec": {
   "display_name": "Python 3 (ipykernel)",
   "language": "python",
   "name": "python3"
  },
  "language_info": {
   "codemirror_mode": {
    "name": "ipython",
    "version": 3
   },
   "file_extension": ".py",
   "mimetype": "text/x-python",
   "name": "python",
   "nbconvert_exporter": "python",
   "pygments_lexer": "ipython3",
   "version": "3.9.21"
  }
 },
 "nbformat": 4,
 "nbformat_minor": 5
}
